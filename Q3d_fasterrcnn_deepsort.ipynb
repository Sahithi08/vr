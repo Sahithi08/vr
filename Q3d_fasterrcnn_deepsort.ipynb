{
 "cells": [
  {
   "attachments": {},
   "cell_type": "markdown",
   "metadata": {},
   "source": [
    "Standard Imports"
   ]
  },
  {
   "cell_type": "code",
   "execution_count": 47,
   "metadata": {},
   "outputs": [],
   "source": [
    "import numpy as np\n",
    "import pandas as pd\n",
    "import cv2\n",
    "import torch\n",
    "import torchvision\n",
    "import tensorflow as tf\n",
    "from torchvision.models.detection import fasterrcnn_resnet50_fpn as fasterrcnn\n",
    "from torchvision.ops.boxes import nms as torch_nms\n",
    "from deepsort.deepsort import *\n",
    "\n"
   ]
  },
  {
   "cell_type": "code",
   "execution_count": 48,
   "metadata": {},
   "outputs": [],
   "source": [
    "from IOU import IOU"
   ]
  },
  {
   "attachments": {},
   "cell_type": "markdown",
   "metadata": {},
   "source": [
    "The Non Maximum Supression function used for removing the multiple boxes around a certain object (Car)"
   ]
  },
  {
   "cell_type": "code",
   "execution_count": 49,
   "metadata": {},
   "outputs": [],
   "source": [
    "def nms(boxes, conf_threshold=0.7, iou_threshold=0.4):\n",
    "    bbox_list_thresholded = []\n",
    "    bbox_list_new = []\n",
    "    boxes_sorted = sorted(boxes, reverse=True, key = lambda x : x[5])\n",
    "    for box in boxes_sorted:\n",
    "        if box[5] > conf_threshold:\n",
    "            bbox_list_thresholded.append(box)\n",
    "        else:\n",
    "            pass\n",
    "    while len(bbox_list_thresholded) > 0:\n",
    "        current_box = bbox_list_thresholded.pop(0)\n",
    "        bbox_list_new.append(current_box)\n",
    "        for box in bbox_list_thresholded:\n",
    "            if current_box[4] == box[4]:\n",
    "                iou = IOU(current_box[:4], box[:4])\n",
    "                if iou > iou_threshold:\n",
    "                    bbox_list_thresholded.remove(box)\n",
    "    \n",
    "    return bbox_list_new"
   ]
  },
  {
   "cell_type": "code",
   "execution_count": 50,
   "metadata": {},
   "outputs": [],
   "source": [
    "def draw_box(frame, boundingbox, color=(0,255,0)):\n",
    "\tx1_val, y1_val, x2_val, y2_val = boundingbox\n",
    "\tcv2.rectangle(frame, pt1=(x1_val, y1_val), pt2=(x2_val, y2_val), color=color, thickness=2)\n",
    "\treturn frame"
   ]
  },
  {
   "cell_type": "code",
   "execution_count": 51,
   "metadata": {},
   "outputs": [],
   "source": [
    "def car_tracker(path_for_input_video,path_for_output_video):\n",
    "    fasterrcnn_model = fasterrcnn(pretrained=True, progress=True, num_classes=91, pretrained_backbone=True)\n",
    "    fasterrcnn_model.eval()\n",
    "    \n",
    "    video_capture=cv2.VideoCapture(path_for_input_video)\n",
    "    w = int(video_capture.get(cv2.CAP_PROP_FRAME_WIDTH))\n",
    "    h = int(video_capture.get(cv2.CAP_PROP_FRAME_HEIGHT))\n",
    "    f = int(video_capture.get(cv2.CAP_PROP_FPS)) #frames\n",
    "    c = cv2.VideoWriter_fourcc(*'mp4v')\n",
    "    writer = cv2.VideoWriter(path_for_output_video, c, f, (w, h))\n",
    "    sort_tracker=Sort()\n",
    "    while not False:\n",
    "        flag,frame=video_capture.read()\n",
    "        if not flag:\n",
    "            break\n",
    "        real_frame = np.divide(frame.copy(),255)\n",
    "        real_frame=torch.from_numpy(real_frame)\n",
    "        real_frame = real_frame.float()\n",
    "        real_frame = torch.swapaxes(real_frame,0,2)\n",
    "        real_frame = torch.swapaxes(real_frame,1,2)\n",
    "        real_frame = torch.unsqueeze(real_frame,0)\n",
    "        \n",
    "        with torch.no_grad():\n",
    "            predict = fasterrcnn_model(real_frame)\n",
    "\n",
    "        boxes, labels, scores = predict[0]['boxes'], predict[0]['labels'], predict[0]['scores']\n",
    "        boxes, labels, scores = boxes.numpy(), labels.numpy(), scores.numpy()\n",
    "        bounding_boxes = []\n",
    "        for i,j,k in zip(boxes, labels, scores):\n",
    "            if j == 3:\n",
    "                bounding_boxes.append(list(i) + [j] + [k])\n",
    "        bounding_boxes = np.array(nms(bounding_boxes,0.2,0.5))\n",
    "        # bounding_boxes = tf.convert_to_tensor(bounding_boxes)\n",
    "        # bounding_boxes = np.array(torch_nms(bounding_boxes, scores, 0.5))\n",
    "        # boxes = boxes.numpy()\n",
    "        # print(\"bounding_box : \", bounding_boxes)\n",
    "        # print(\"boxes : \", boxes)\n",
    "        # b_boxes = []\n",
    "        # for i in bounding_boxes:\n",
    "        #     b_boxes.append(boxes[i])\n",
    "        # bounding_boxes = b_boxes\n",
    "        labels = []\n",
    "        for i in bounding_boxes:\n",
    "            labels.append(i[4])\n",
    "        bounding_boxes = np.delete(bounding_boxes,4,1)\n",
    "\n",
    "        track_boxes_id = sort_tracker.update(bounding_boxes)\n",
    "        for id in track_boxes_id:\n",
    "            frame = draw_box(frame,(int(id[0]),int(id[1]),int(id[2]),int(id[3])))\n",
    "\n",
    "        image_frame = cv2.putText(frame, f'Car Counter: {len(track_boxes_id)}', (0, 30), cv2.FONT_HERSHEY_COMPLEX_SMALL, 1, (0, 255, 0), 2)\n",
    "\n",
    "        writer.write(image_frame)\n",
    "        \n"
   ]
  },
  {
   "cell_type": "code",
   "execution_count": 52,
   "metadata": {},
   "outputs": [],
   "source": [
    "pred=car_tracker(\"video1.mp4\",\"output.mp4\")"
   ]
  }
 ],
 "metadata": {
  "kernelspec": {
   "display_name": "Python 3",
   "language": "python",
   "name": "python3"
  },
  "language_info": {
   "codemirror_mode": {
    "name": "ipython",
    "version": 3
   },
   "file_extension": ".py",
   "mimetype": "text/x-python",
   "name": "python",
   "nbconvert_exporter": "python",
   "pygments_lexer": "ipython3",
   "version": "3.10.6"
  },
  "orig_nbformat": 4,
  "vscode": {
   "interpreter": {
    "hash": "916dbcbb3f70747c44a77c7bcd40155683ae19c65e1c03b4aa3499c5328201f1"
   }
  }
 },
 "nbformat": 4,
 "nbformat_minor": 2
}
